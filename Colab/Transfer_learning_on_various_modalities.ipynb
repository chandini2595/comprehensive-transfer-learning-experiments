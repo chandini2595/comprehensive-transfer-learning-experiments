{
  "nbformat": 4,
  "nbformat_minor": 0,
  "metadata": {
    "colab": {
      "provenance": [],
      "gpuType": "T4",
      "authorship_tag": "ABX9TyNGzLBpql3o4sRvhv3wz2UN",
      "include_colab_link": true
    },
    "kernelspec": {
      "name": "python3",
      "display_name": "Python 3"
    },
    "language_info": {
      "name": "python"
    },
    "accelerator": "GPU"
  },
  "cells": [
    {
      "cell_type": "markdown",
      "metadata": {
        "id": "view-in-github",
        "colab_type": "text"
      },
      "source": [
        "<a href=\"https://colab.research.google.com/github/chandini2595/comprehensive-transfer-learning-experiments/blob/main/Colab/Transfer_learning_on_various_modalities.ipynb\" target=\"_parent\"><img src=\"https://colab.research.google.com/assets/colab-badge.svg\" alt=\"Open In Colab\"/></a>"
      ]
    },
    {
      "cell_type": "markdown",
      "source": [
        "# Images"
      ],
      "metadata": {
        "id": "EEmxvrSnXhAv"
      }
    },
    {
      "cell_type": "code",
      "execution_count": 1,
      "metadata": {
        "colab": {
          "base_uri": "https://localhost:8080/"
        },
        "id": "KwMlkLR6JrQ-",
        "outputId": "edd2841b-1f23-4dd2-ac59-beb3cc54973c"
      },
      "outputs": [
        {
          "output_type": "stream",
          "name": "stdout",
          "text": [
            "Downloading data from https://storage.googleapis.com/tensorflow/keras-applications/mobilenet_v2/mobilenet_v2_weights_tf_dim_ordering_tf_kernels_1.0_160_no_top.h5\n",
            "\u001b[1m9406464/9406464\u001b[0m \u001b[32m━━━━━━━━━━━━━━━━━━━━\u001b[0m\u001b[37m\u001b[0m \u001b[1m0s\u001b[0m 0us/step\n",
            "Epoch 1/2\n",
            "\u001b[1m16/16\u001b[0m \u001b[32m━━━━━━━━━━━━━━━━━━━━\u001b[0m\u001b[37m\u001b[0m \u001b[1m19s\u001b[0m 622ms/step - accuracy: 0.6439 - loss: 0.6313 - val_accuracy: 0.7100 - val_loss: 0.5579\n",
            "Epoch 2/2\n",
            "\u001b[1m16/16\u001b[0m \u001b[32m━━━━━━━━━━━━━━━━━━━━\u001b[0m\u001b[37m\u001b[0m \u001b[1m0s\u001b[0m 29ms/step - accuracy: 0.7218 - loss: 0.5594 - val_accuracy: 0.7500 - val_loss: 0.4963\n"
          ]
        },
        {
          "output_type": "execute_result",
          "data": {
            "text/plain": [
              "<keras.src.callbacks.history.History at 0x7bffcdabc590>"
            ]
          },
          "metadata": {},
          "execution_count": 1
        }
      ],
      "source": [
        "import tensorflow as tf\n",
        "from tensorflow.keras.applications import MobileNetV2\n",
        "from tensorflow.keras.layers import GlobalAveragePooling2D, Dense\n",
        "from tensorflow.keras.models import Sequential\n",
        "from tensorflow.keras.datasets import cifar10\n",
        "\n",
        "# Load and preprocess CIFAR-10 (binary: cat vs dog)\n",
        "(x_train, y_train), (x_test, y_test) = cifar10.load_data()\n",
        "\n",
        "# Use only classes 3 (cat) and 5 (dog)\n",
        "class_filter = lambda x: (x == 3) | (x == 5)\n",
        "mask_train = class_filter(y_train)\n",
        "mask_test = class_filter(y_test)\n",
        "\n",
        "x_train, y_train = x_train[mask_train.flatten()], y_train[mask_train.flatten()]\n",
        "x_test, y_test = x_test[mask_test.flatten()], y_test[mask_test.flatten()]\n",
        "\n",
        "# Normalize and resize to 160x160\n",
        "x_train = tf.image.resize(x_train, (160, 160)) / 255.0\n",
        "x_test = tf.image.resize(x_test, (160, 160)) / 255.0\n",
        "\n",
        "# Binary labels: cat=0, dog=1\n",
        "y_train = (y_train == 5).astype(int)\n",
        "y_test = (y_test == 5).astype(int)\n",
        "\n",
        "# Feature extractor\n",
        "base_model = MobileNetV2(weights='imagenet', include_top=False, input_shape=(160, 160, 3))\n",
        "base_model.trainable = False\n",
        "\n",
        "model = Sequential([\n",
        "    base_model,\n",
        "    GlobalAveragePooling2D(),\n",
        "    Dense(1, activation='sigmoid')\n",
        "])\n",
        "\n",
        "model.compile(optimizer='adam', loss='binary_crossentropy', metrics=['accuracy'])\n",
        "\n",
        "# Train on smaller batch for safety\n",
        "model.fit(x_train[:500], y_train[:500], epochs=2, validation_data=(x_test[:100], y_test[:100]))\n"
      ]
    },
    {
      "cell_type": "code",
      "source": [
        "base_model.trainable = True\n",
        "for layer in base_model.layers[:-20]:\n",
        "    layer.trainable = False\n",
        "\n",
        "model.compile(optimizer=tf.keras.optimizers.Adam(1e-5), loss='binary_crossentropy', metrics=['accuracy'])\n",
        "model.fit(x_train, y_train, epochs=2, validation_data=(x_test, y_test))\n"
      ],
      "metadata": {
        "colab": {
          "base_uri": "https://localhost:8080/"
        },
        "id": "zKIF1PFSKrAl",
        "outputId": "7ef1b6f1-051a-4950-9600-f77d32682ca6"
      },
      "execution_count": 2,
      "outputs": [
        {
          "output_type": "stream",
          "name": "stdout",
          "text": [
            "Epoch 1/2\n",
            "\u001b[1m313/313\u001b[0m \u001b[32m━━━━━━━━━━━━━━━━━━━━\u001b[0m\u001b[37m\u001b[0m \u001b[1m32s\u001b[0m 61ms/step - accuracy: 0.6868 - loss: 0.5802 - val_accuracy: 0.7770 - val_loss: 0.4728\n",
            "Epoch 2/2\n",
            "\u001b[1m313/313\u001b[0m \u001b[32m━━━━━━━━━━━━━━━━━━━━\u001b[0m\u001b[37m\u001b[0m \u001b[1m24s\u001b[0m 25ms/step - accuracy: 0.8328 - loss: 0.3706 - val_accuracy: 0.8070 - val_loss: 0.4099\n"
          ]
        },
        {
          "output_type": "execute_result",
          "data": {
            "text/plain": [
              "<keras.src.callbacks.history.History at 0x7bffa99a3e10>"
            ]
          },
          "metadata": {},
          "execution_count": 2
        }
      ]
    },
    {
      "cell_type": "markdown",
      "source": [
        "# Videos"
      ],
      "metadata": {
        "id": "8Rdx8NtlXktZ"
      }
    },
    {
      "cell_type": "code",
      "source": [
        "import numpy as np\n",
        "import tensorflow as tf\n",
        "from tensorflow.keras.applications import MobileNetV2\n",
        "from tensorflow.keras.layers import TimeDistributed, LSTM, Dense, GlobalAveragePooling2D\n",
        "from tensorflow.keras.models import Sequential\n",
        "from tensorflow.keras.datasets import cifar10\n",
        "\n",
        "# Reduce size for memory safety\n",
        "NUM_VIDEOS = 50\n",
        "FRAMES_PER_VIDEO = 5\n",
        "IMG_SIZE = 128  # Smaller image\n",
        "\n",
        "# Load CIFAR-10 and preprocess\n",
        "(x, y), _ = cifar10.load_data()\n",
        "x = tf.image.resize(x[:NUM_VIDEOS * FRAMES_PER_VIDEO], (IMG_SIZE, IMG_SIZE)) / 255.0\n",
        "y = y[:NUM_VIDEOS * FRAMES_PER_VIDEO]\n",
        "\n",
        "# Create fake videos\n",
        "videos = tf.reshape(x, (-1, FRAMES_PER_VIDEO, IMG_SIZE, IMG_SIZE, 3))\n",
        "labels = tf.reshape(y, (-1, FRAMES_PER_VIDEO))[:, 0]\n",
        "labels = tf.cast(labels < 5, dtype=tf.int32)  # Binary labels\n",
        "\n",
        "# MobileNetV2 (smaller input)\n",
        "cnn = MobileNetV2(include_top=False, weights='imagenet', input_shape=(IMG_SIZE, IMG_SIZE, 3))\n",
        "cnn.trainable = False\n",
        "\n",
        "# Build model\n",
        "model = Sequential([\n",
        "    TimeDistributed(cnn),\n",
        "    TimeDistributed(GlobalAveragePooling2D()),\n",
        "    LSTM(32),  # Smaller LSTM\n",
        "    Dense(1, activation='sigmoid')\n",
        "])\n",
        "\n",
        "model.compile(optimizer='adam', loss='binary_crossentropy', metrics=['accuracy'])\n",
        "\n",
        "# Train safely\n",
        "model.fit(videos, labels, epochs=2, batch_size=4)\n"
      ],
      "metadata": {
        "colab": {
          "base_uri": "https://localhost:8080/"
        },
        "id": "E8ILo6WaK95D",
        "outputId": "ceb0b77d-6c29-405e-da17-ec3f2cd22a3e"
      },
      "execution_count": 1,
      "outputs": [
        {
          "output_type": "stream",
          "name": "stdout",
          "text": [
            "Downloading data from https://storage.googleapis.com/tensorflow/keras-applications/mobilenet_v2/mobilenet_v2_weights_tf_dim_ordering_tf_kernels_1.0_128_no_top.h5\n",
            "\u001b[1m9406464/9406464\u001b[0m \u001b[32m━━━━━━━━━━━━━━━━━━━━\u001b[0m\u001b[37m\u001b[0m \u001b[1m0s\u001b[0m 0us/step\n",
            "Epoch 1/2\n",
            "\u001b[1m13/13\u001b[0m \u001b[32m━━━━━━━━━━━━━━━━━━━━\u001b[0m\u001b[37m\u001b[0m \u001b[1m23s\u001b[0m 50ms/step - accuracy: 0.4605 - loss: 0.8001\n",
            "Epoch 2/2\n",
            "\u001b[1m13/13\u001b[0m \u001b[32m━━━━━━━━━━━━━━━━━━━━\u001b[0m\u001b[37m\u001b[0m \u001b[1m3s\u001b[0m 36ms/step - accuracy: 0.5551 - loss: 0.6887\n"
          ]
        },
        {
          "output_type": "execute_result",
          "data": {
            "text/plain": [
              "<keras.src.callbacks.history.History at 0x78151cc5ce50>"
            ]
          },
          "metadata": {},
          "execution_count": 1
        }
      ]
    },
    {
      "cell_type": "markdown",
      "source": [
        "# Audios"
      ],
      "metadata": {
        "id": "DsTVTlBMXnBx"
      }
    },
    {
      "cell_type": "code",
      "source": [
        "!pip install pydub"
      ],
      "metadata": {
        "colab": {
          "base_uri": "https://localhost:8080/"
        },
        "id": "KcyWqVB4MLDP",
        "outputId": "64a3c2ad-d721-4eb7-ea3b-5ed32b803fcb"
      },
      "execution_count": 3,
      "outputs": [
        {
          "output_type": "stream",
          "name": "stdout",
          "text": [
            "Collecting pydub\n",
            "  Downloading pydub-0.25.1-py2.py3-none-any.whl.metadata (1.4 kB)\n",
            "Downloading pydub-0.25.1-py2.py3-none-any.whl (32 kB)\n",
            "Installing collected packages: pydub\n",
            "Successfully installed pydub-0.25.1\n"
          ]
        }
      ]
    },
    {
      "cell_type": "code",
      "source": [
        "import tensorflow as tf\n",
        "import tensorflow_datasets as tfds\n",
        "import tensorflow_hub as hub\n",
        "import numpy as np\n",
        "\n",
        "# Load YAMNet\n",
        "yamnet_model_handle = 'https://tfhub.dev/google/yamnet/1'\n",
        "yamnet = hub.load(yamnet_model_handle)\n",
        "\n",
        "# Load Speech Commands dataset\n",
        "ds, ds_info = tfds.load('speech_commands', split='train[:1%]', with_info=True)\n",
        "ds = ds.map(lambda x: x['audio'])\n",
        "\n",
        "# Extract embeddings using YAMNet\n",
        "def extract_embedding(waveform):\n",
        "    # Cast waveform to float32\n",
        "    waveform = tf.cast(waveform, tf.float32)\n",
        "    scores, embeddings, _ = yamnet(waveform)\n",
        "    return tf.reduce_mean(embeddings, axis=0)\n",
        "\n",
        "# Prepare dataset\n",
        "X, y = [], []\n",
        "for i, waveform in enumerate(ds.take(100)):\n",
        "    emb = extract_embedding(waveform)\n",
        "    X.append(emb)\n",
        "    y.append(i % 2)  # Dummy binary label\n",
        "\n",
        "X, y = np.array(X), np.array(y)\n",
        "\n",
        "# Build and train simple classifier\n",
        "model = tf.keras.Sequential([\n",
        "    tf.keras.layers.Input(shape=(1024,)),\n",
        "    tf.keras.layers.Dense(256, activation='relu'),\n",
        "    tf.keras.layers.Dense(1, activation='sigmoid')\n",
        "])\n",
        "\n",
        "model.compile(optimizer='adam', loss='binary_crossentropy', metrics=['accuracy'])\n",
        "model.fit(X, y, epochs=3)"
      ],
      "metadata": {
        "colab": {
          "base_uri": "https://localhost:8080/"
        },
        "id": "oHbipEhYLyjs",
        "outputId": "9eda19f7-af3e-4d4f-9ffd-bc004b8ad3de"
      },
      "execution_count": 5,
      "outputs": [
        {
          "output_type": "stream",
          "name": "stdout",
          "text": [
            "Epoch 1/3\n",
            "\u001b[1m4/4\u001b[0m \u001b[32m━━━━━━━━━━━━━━━━━━━━\u001b[0m\u001b[37m\u001b[0m \u001b[1m2s\u001b[0m 155ms/step - accuracy: 0.4733 - loss: 10.0833\n",
            "Epoch 2/3\n",
            "\u001b[1m4/4\u001b[0m \u001b[32m━━━━━━━━━━━━━━━━━━━━\u001b[0m\u001b[37m\u001b[0m \u001b[1m1s\u001b[0m 9ms/step - accuracy: 0.4936 - loss: 3.4876\n",
            "Epoch 3/3\n",
            "\u001b[1m4/4\u001b[0m \u001b[32m━━━━━━━━━━━━━━━━━━━━\u001b[0m\u001b[37m\u001b[0m \u001b[1m0s\u001b[0m 8ms/step - accuracy: 0.5106 - loss: 3.0228 \n"
          ]
        },
        {
          "output_type": "execute_result",
          "data": {
            "text/plain": [
              "<keras.src.callbacks.history.History at 0x7814a05b96d0>"
            ]
          },
          "metadata": {},
          "execution_count": 5
        }
      ]
    }
  ]
}